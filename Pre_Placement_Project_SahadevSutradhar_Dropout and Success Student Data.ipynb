{
 "cells": [
  {
   "cell_type": "markdown",
   "metadata": {
    "id": "IF5LYJJExMYx"
   },
   "source": [
    "https://www.kaggle.com/datasets/marouandaghmoumi/dropout-and-success-student-data-analysis"
   ]
  },
  {
   "cell_type": "code",
   "execution_count": 1,
   "metadata": {
    "id": "d3jQagyfKLEX"
   },
   "outputs": [],
   "source": [
    "import numpy as np\n",
    "import pandas as pd\n",
    "import io"
   ]
  },
  {
   "cell_type": "code",
   "execution_count": 2,
   "metadata": {
    "colab": {
     "base_uri": "https://localhost:8080/",
     "height": 72
    },
    "id": "o0HOSczlKLuD",
    "outputId": "88484e35-9b23-405d-ed35-bae351cfa888"
   },
   "outputs": [
    {
     "data": {
      "text/plain": [
       "'C:\\\\Users\\\\TEMP.SAHADEV007.029'"
      ]
     },
     "execution_count": 2,
     "metadata": {},
     "output_type": "execute_result"
    }
   ],
   "source": [
    "%pwd \"D:\\NIIT\\Pre-Placement Project\""
   ]
  },
  {
   "cell_type": "code",
   "execution_count": 3,
   "metadata": {},
   "outputs": [
    {
     "name": "stdout",
     "output_type": "stream",
     "text": [
      "D:\\NIIT\\Pre-Placement Project\n"
     ]
    }
   ],
   "source": [
    "%cd \"D:\\NIIT\\Pre-Placement Project\""
   ]
  },
  {
   "cell_type": "code",
   "execution_count": 4,
   "metadata": {
    "colab": {
     "base_uri": "https://localhost:8080/",
     "height": 307
    },
    "id": "BHxb-5URKLxg",
    "outputId": "14153f33-7443-4df4-f975-971ab406f783"
   },
   "outputs": [
    {
     "data": {
      "text/html": [
       "<div>\n",
       "<style scoped>\n",
       "    .dataframe tbody tr th:only-of-type {\n",
       "        vertical-align: middle;\n",
       "    }\n",
       "\n",
       "    .dataframe tbody tr th {\n",
       "        vertical-align: top;\n",
       "    }\n",
       "\n",
       "    .dataframe thead th {\n",
       "        text-align: right;\n",
       "    }\n",
       "</style>\n",
       "<table border=\"1\" class=\"dataframe\">\n",
       "  <thead>\n",
       "    <tr style=\"text-align: right;\">\n",
       "      <th></th>\n",
       "      <th>Marital status</th>\n",
       "      <th>Application mode</th>\n",
       "      <th>Application order</th>\n",
       "      <th>Course</th>\n",
       "      <th>evening attendance</th>\n",
       "      <th>Previous qualification</th>\n",
       "      <th>Nacionality</th>\n",
       "      <th>Mother's qualification</th>\n",
       "      <th>Father's qualification</th>\n",
       "      <th>Mother's occupation</th>\n",
       "      <th>...</th>\n",
       "      <th>Curricular units 2nd sem (evaluations)</th>\n",
       "      <th>Curricular units 2nd sem (approved)</th>\n",
       "      <th>Curricular units 2nd sem (grade)</th>\n",
       "      <th>Curricular units 2nd sem (without evaluations)</th>\n",
       "      <th>Unemployment rate</th>\n",
       "      <th>Inflation rate</th>\n",
       "      <th>GDP</th>\n",
       "      <th>Output</th>\n",
       "      <th>Unnamed: 35</th>\n",
       "      <th>Unnamed: 36</th>\n",
       "    </tr>\n",
       "  </thead>\n",
       "  <tbody>\n",
       "    <tr>\n",
       "      <th>0</th>\n",
       "      <td>1</td>\n",
       "      <td>8</td>\n",
       "      <td>5</td>\n",
       "      <td>2</td>\n",
       "      <td>1</td>\n",
       "      <td>1</td>\n",
       "      <td>1</td>\n",
       "      <td>13</td>\n",
       "      <td>10</td>\n",
       "      <td>6</td>\n",
       "      <td>...</td>\n",
       "      <td>0</td>\n",
       "      <td>0</td>\n",
       "      <td>0.000000</td>\n",
       "      <td>0</td>\n",
       "      <td>10.8</td>\n",
       "      <td>1.4</td>\n",
       "      <td>1.74</td>\n",
       "      <td>Dropout</td>\n",
       "      <td>NaN</td>\n",
       "      <td>NaN</td>\n",
       "    </tr>\n",
       "    <tr>\n",
       "      <th>1</th>\n",
       "      <td>1</td>\n",
       "      <td>6</td>\n",
       "      <td>1</td>\n",
       "      <td>11</td>\n",
       "      <td>1</td>\n",
       "      <td>1</td>\n",
       "      <td>1</td>\n",
       "      <td>1</td>\n",
       "      <td>3</td>\n",
       "      <td>4</td>\n",
       "      <td>...</td>\n",
       "      <td>6</td>\n",
       "      <td>6</td>\n",
       "      <td>13.666667</td>\n",
       "      <td>0</td>\n",
       "      <td>13.9</td>\n",
       "      <td>-0.3</td>\n",
       "      <td>0.79</td>\n",
       "      <td>Graduate</td>\n",
       "      <td>NaN</td>\n",
       "      <td>21.0</td>\n",
       "    </tr>\n",
       "    <tr>\n",
       "      <th>2</th>\n",
       "      <td>1</td>\n",
       "      <td>1</td>\n",
       "      <td>5</td>\n",
       "      <td>5</td>\n",
       "      <td>1</td>\n",
       "      <td>1</td>\n",
       "      <td>1</td>\n",
       "      <td>22</td>\n",
       "      <td>27</td>\n",
       "      <td>10</td>\n",
       "      <td>...</td>\n",
       "      <td>0</td>\n",
       "      <td>0</td>\n",
       "      <td>0.000000</td>\n",
       "      <td>0</td>\n",
       "      <td>10.8</td>\n",
       "      <td>1.4</td>\n",
       "      <td>1.74</td>\n",
       "      <td>Dropout</td>\n",
       "      <td>NaN</td>\n",
       "      <td>NaN</td>\n",
       "    </tr>\n",
       "    <tr>\n",
       "      <th>3</th>\n",
       "      <td>1</td>\n",
       "      <td>8</td>\n",
       "      <td>2</td>\n",
       "      <td>15</td>\n",
       "      <td>1</td>\n",
       "      <td>1</td>\n",
       "      <td>1</td>\n",
       "      <td>23</td>\n",
       "      <td>27</td>\n",
       "      <td>6</td>\n",
       "      <td>...</td>\n",
       "      <td>10</td>\n",
       "      <td>5</td>\n",
       "      <td>12.400000</td>\n",
       "      <td>0</td>\n",
       "      <td>9.4</td>\n",
       "      <td>-0.8</td>\n",
       "      <td>-3.12</td>\n",
       "      <td>Graduate</td>\n",
       "      <td>NaN</td>\n",
       "      <td>NaN</td>\n",
       "    </tr>\n",
       "    <tr>\n",
       "      <th>4</th>\n",
       "      <td>2</td>\n",
       "      <td>12</td>\n",
       "      <td>1</td>\n",
       "      <td>3</td>\n",
       "      <td>0</td>\n",
       "      <td>1</td>\n",
       "      <td>1</td>\n",
       "      <td>22</td>\n",
       "      <td>28</td>\n",
       "      <td>10</td>\n",
       "      <td>...</td>\n",
       "      <td>6</td>\n",
       "      <td>6</td>\n",
       "      <td>13.000000</td>\n",
       "      <td>0</td>\n",
       "      <td>13.9</td>\n",
       "      <td>-0.3</td>\n",
       "      <td>0.79</td>\n",
       "      <td>Graduate</td>\n",
       "      <td>NaN</td>\n",
       "      <td>NaN</td>\n",
       "    </tr>\n",
       "  </tbody>\n",
       "</table>\n",
       "<p>5 rows × 37 columns</p>\n",
       "</div>"
      ],
      "text/plain": [
       "   Marital status  Application mode  Application order  Course  \\\n",
       "0               1                 8                  5       2   \n",
       "1               1                 6                  1      11   \n",
       "2               1                 1                  5       5   \n",
       "3               1                 8                  2      15   \n",
       "4               2                12                  1       3   \n",
       "\n",
       "   evening attendance  Previous qualification  Nacionality  \\\n",
       "0                   1                       1            1   \n",
       "1                   1                       1            1   \n",
       "2                   1                       1            1   \n",
       "3                   1                       1            1   \n",
       "4                   0                       1            1   \n",
       "\n",
       "   Mother's qualification  Father's qualification  Mother's occupation  ...  \\\n",
       "0                      13                      10                    6  ...   \n",
       "1                       1                       3                    4  ...   \n",
       "2                      22                      27                   10  ...   \n",
       "3                      23                      27                    6  ...   \n",
       "4                      22                      28                   10  ...   \n",
       "\n",
       "   Curricular units 2nd sem (evaluations)  \\\n",
       "0                                       0   \n",
       "1                                       6   \n",
       "2                                       0   \n",
       "3                                      10   \n",
       "4                                       6   \n",
       "\n",
       "   Curricular units 2nd sem (approved)  Curricular units 2nd sem (grade)  \\\n",
       "0                                    0                          0.000000   \n",
       "1                                    6                         13.666667   \n",
       "2                                    0                          0.000000   \n",
       "3                                    5                         12.400000   \n",
       "4                                    6                         13.000000   \n",
       "\n",
       "   Curricular units 2nd sem (without evaluations)  Unemployment rate  \\\n",
       "0                                               0               10.8   \n",
       "1                                               0               13.9   \n",
       "2                                               0               10.8   \n",
       "3                                               0                9.4   \n",
       "4                                               0               13.9   \n",
       "\n",
       "   Inflation rate   GDP    Output  Unnamed: 35  Unnamed: 36  \n",
       "0             1.4  1.74   Dropout          NaN          NaN  \n",
       "1            -0.3  0.79  Graduate          NaN         21.0  \n",
       "2             1.4  1.74   Dropout          NaN          NaN  \n",
       "3            -0.8 -3.12  Graduate          NaN          NaN  \n",
       "4            -0.3  0.79  Graduate          NaN          NaN  \n",
       "\n",
       "[5 rows x 37 columns]"
      ]
     },
     "execution_count": 4,
     "metadata": {},
     "output_type": "execute_result"
    }
   ],
   "source": [
    "df = pd.read_csv(\"D:\\\\NIIT\\\\Pre-Placement Project\\\\student_data.csv\")\n",
    "df.head()"
   ]
  },
  {
   "cell_type": "code",
   "execution_count": 5,
   "metadata": {
    "colab": {
     "base_uri": "https://localhost:8080/"
    },
    "id": "oJzhvulCKL0k",
    "outputId": "feef2aaf-f556-4157-fb64-a2aebeff6da8"
   },
   "outputs": [
    {
     "data": {
      "text/plain": [
       "Index(['Marital status', 'Application mode', 'Application order', 'Course',\n",
       "       'evening attendance', 'Previous qualification', 'Nacionality',\n",
       "       'Mother's qualification', 'Father's qualification',\n",
       "       'Mother's occupation', 'Father's occupation', 'Displaced',\n",
       "       'Educational special needs', 'Debtor', 'Tuition fees up to date',\n",
       "       'Gender', 'Scholarship holder', 'Age at enrollment', 'International',\n",
       "       'Curricular units 1st sem (credited)',\n",
       "       'Curricular units 1st sem (enrolled)',\n",
       "       'Curricular units 1st sem (evaluations)',\n",
       "       'Curricular units 1st sem (approved)',\n",
       "       'Curricular units 1st sem (grade)',\n",
       "       'Curricular units 1st sem (without evaluations)',\n",
       "       'Curricular units 2nd sem (credited)',\n",
       "       'Curricular units 2nd sem (enrolled)',\n",
       "       'Curricular units 2nd sem (evaluations)',\n",
       "       'Curricular units 2nd sem (approved)',\n",
       "       'Curricular units 2nd sem (grade)',\n",
       "       'Curricular units 2nd sem (without evaluations)', 'Unemployment rate',\n",
       "       'Inflation rate', 'GDP', 'Output', 'Unnamed: 35', 'Unnamed: 36'],\n",
       "      dtype='object')"
      ]
     },
     "execution_count": 5,
     "metadata": {},
     "output_type": "execute_result"
    }
   ],
   "source": [
    "df.columns"
   ]
  },
  {
   "cell_type": "code",
   "execution_count": 6,
   "metadata": {
    "colab": {
     "base_uri": "https://localhost:8080/"
    },
    "id": "lCMs9VYTKL54",
    "outputId": "3ad38f91-a381-47d8-b876-bba48e79b441"
   },
   "outputs": [
    {
     "data": {
      "text/plain": [
       "(4424, 37)"
      ]
     },
     "execution_count": 6,
     "metadata": {},
     "output_type": "execute_result"
    }
   ],
   "source": [
    "df.shape"
   ]
  },
  {
   "cell_type": "code",
   "execution_count": 7,
   "metadata": {
    "colab": {
     "base_uri": "https://localhost:8080/"
    },
    "id": "y9i6zkr0KL9H",
    "outputId": "65c334ea-3b48-4d0c-f2b0-da84ec043eab"
   },
   "outputs": [
    {
     "name": "stdout",
     "output_type": "stream",
     "text": [
      "<class 'pandas.core.frame.DataFrame'>\n",
      "RangeIndex: 4424 entries, 0 to 4423\n",
      "Data columns (total 37 columns):\n",
      " #   Column                                          Non-Null Count  Dtype  \n",
      "---  ------                                          --------------  -----  \n",
      " 0   Marital status                                  4424 non-null   int64  \n",
      " 1   Application mode                                4424 non-null   int64  \n",
      " 2   Application order                               4424 non-null   int64  \n",
      " 3   Course                                          4424 non-null   int64  \n",
      " 4   evening attendance                              4424 non-null   int64  \n",
      " 5   Previous qualification                          4424 non-null   int64  \n",
      " 6   Nacionality                                     4424 non-null   int64  \n",
      " 7   Mother's qualification                          4424 non-null   int64  \n",
      " 8   Father's qualification                          4424 non-null   int64  \n",
      " 9   Mother's occupation                             4424 non-null   int64  \n",
      " 10  Father's occupation                             4424 non-null   int64  \n",
      " 11  Displaced                                       4424 non-null   int64  \n",
      " 12  Educational special needs                       4424 non-null   int64  \n",
      " 13  Debtor                                          4424 non-null   int64  \n",
      " 14  Tuition fees up to date                         4424 non-null   int64  \n",
      " 15  Gender                                          4424 non-null   int64  \n",
      " 16  Scholarship holder                              4424 non-null   int64  \n",
      " 17  Age at enrollment                               4424 non-null   int64  \n",
      " 18  International                                   4424 non-null   int64  \n",
      " 19  Curricular units 1st sem (credited)             4424 non-null   int64  \n",
      " 20  Curricular units 1st sem (enrolled)             4424 non-null   int64  \n",
      " 21  Curricular units 1st sem (evaluations)          4424 non-null   int64  \n",
      " 22  Curricular units 1st sem (approved)             4424 non-null   int64  \n",
      " 23  Curricular units 1st sem (grade)                4424 non-null   float64\n",
      " 24  Curricular units 1st sem (without evaluations)  4424 non-null   int64  \n",
      " 25  Curricular units 2nd sem (credited)             4424 non-null   int64  \n",
      " 26  Curricular units 2nd sem (enrolled)             4424 non-null   int64  \n",
      " 27  Curricular units 2nd sem (evaluations)          4424 non-null   int64  \n",
      " 28  Curricular units 2nd sem (approved)             4424 non-null   int64  \n",
      " 29  Curricular units 2nd sem (grade)                4424 non-null   float64\n",
      " 30  Curricular units 2nd sem (without evaluations)  4424 non-null   int64  \n",
      " 31  Unemployment rate                               4424 non-null   float64\n",
      " 32  Inflation rate                                  4424 non-null   float64\n",
      " 33  GDP                                             4424 non-null   float64\n",
      " 34  Output                                          4424 non-null   object \n",
      " 35  Unnamed: 35                                     0 non-null      float64\n",
      " 36  Unnamed: 36                                     1 non-null      float64\n",
      "dtypes: float64(7), int64(29), object(1)\n",
      "memory usage: 1.2+ MB\n"
     ]
    }
   ],
   "source": [
    "df.info()"
   ]
  },
  {
   "cell_type": "code",
   "execution_count": 8,
   "metadata": {
    "colab": {
     "base_uri": "https://localhost:8080/"
    },
    "id": "2uk9YqX-KMAS",
    "outputId": "83d18e26-e57a-48fe-f588-dda257e7cd35"
   },
   "outputs": [
    {
     "data": {
      "text/plain": [
       "Marital status                                       0\n",
       "Application mode                                     0\n",
       "Application order                                    0\n",
       "Course                                               0\n",
       "evening attendance                                   0\n",
       "Previous qualification                               0\n",
       "Nacionality                                          0\n",
       "Mother's qualification                               0\n",
       "Father's qualification                               0\n",
       "Mother's occupation                                  0\n",
       "Father's occupation                                  0\n",
       "Displaced                                            0\n",
       "Educational special needs                            0\n",
       "Debtor                                               0\n",
       "Tuition fees up to date                              0\n",
       "Gender                                               0\n",
       "Scholarship holder                                   0\n",
       "Age at enrollment                                    0\n",
       "International                                        0\n",
       "Curricular units 1st sem (credited)                  0\n",
       "Curricular units 1st sem (enrolled)                  0\n",
       "Curricular units 1st sem (evaluations)               0\n",
       "Curricular units 1st sem (approved)                  0\n",
       "Curricular units 1st sem (grade)                     0\n",
       "Curricular units 1st sem (without evaluations)       0\n",
       "Curricular units 2nd sem (credited)                  0\n",
       "Curricular units 2nd sem (enrolled)                  0\n",
       "Curricular units 2nd sem (evaluations)               0\n",
       "Curricular units 2nd sem (approved)                  0\n",
       "Curricular units 2nd sem (grade)                     0\n",
       "Curricular units 2nd sem (without evaluations)       0\n",
       "Unemployment rate                                    0\n",
       "Inflation rate                                       0\n",
       "GDP                                                  0\n",
       "Output                                               0\n",
       "Unnamed: 35                                       4424\n",
       "Unnamed: 36                                       4423\n",
       "dtype: int64"
      ]
     },
     "execution_count": 8,
     "metadata": {},
     "output_type": "execute_result"
    }
   ],
   "source": [
    "df.isnull().sum()"
   ]
  },
  {
   "cell_type": "markdown",
   "metadata": {
    "id": "PvQDfrelpDIh"
   },
   "source": [
    "![image.png](data:image/png;base64,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)"
   ]
  },
  {
   "cell_type": "code",
   "execution_count": 9,
   "metadata": {
    "id": "HWoxDqItnmZV"
   },
   "outputs": [],
   "source": [
    "df['Marital status'].replace({1:'single'}, inplace=True)"
   ]
  },
  {
   "cell_type": "code",
   "execution_count": 10,
   "metadata": {
    "id": "fyVOunA2nm-8"
   },
   "outputs": [],
   "source": [
    "df['Marital status'].replace({2:'married'}, inplace=True)"
   ]
  },
  {
   "cell_type": "code",
   "execution_count": 11,
   "metadata": {
    "id": "OTZ4cpXdnnIc"
   },
   "outputs": [],
   "source": [
    "df['Marital status'].replace({3:'widower'}, inplace=True)"
   ]
  },
  {
   "cell_type": "code",
   "execution_count": 12,
   "metadata": {
    "id": "iFw-SrOcnsQe"
   },
   "outputs": [],
   "source": [
    "df['Marital status'].replace({4:'divorced'}, inplace=True)"
   ]
  },
  {
   "cell_type": "code",
   "execution_count": 13,
   "metadata": {
    "id": "aJt5CgRSnsZQ"
   },
   "outputs": [],
   "source": [
    "df['Marital status'].replace({5:'facto union'}, inplace=True)"
   ]
  },
  {
   "cell_type": "code",
   "execution_count": 14,
   "metadata": {
    "id": "XIHCcrdinsfj"
   },
   "outputs": [],
   "source": [
    "df['Marital status'].replace({6:'legally separated'}, inplace=True)"
   ]
  },
  {
   "cell_type": "code",
   "execution_count": null,
   "metadata": {
    "id": "heNnho_Jpj3F"
   },
   "outputs": [],
   "source": []
  },
  {
   "cell_type": "markdown",
   "metadata": {
    "id": "srfPO3K9pH9N"
   },
   "source": [
    "![image.png](data:image/png;base64,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)"
   ]
  },
  {
   "cell_type": "code",
   "execution_count": 15,
   "metadata": {
    "id": "ayGb0b1SntJC"
   },
   "outputs": [],
   "source": [
    "df['Course'].replace({1:' Biofuel Production Technologies'}, inplace=True)"
   ]
  },
  {
   "cell_type": "code",
   "execution_count": 16,
   "metadata": {
    "id": "19RKYEPFpaGb"
   },
   "outputs": [],
   "source": [
    "df['Course'].replace({2:'Animation and Multimedia Design'}, inplace=True)"
   ]
  },
  {
   "cell_type": "code",
   "execution_count": 17,
   "metadata": {
    "id": "zPX2XtlRpaJe"
   },
   "outputs": [],
   "source": [
    "df['Course'].replace({3:'Social Service (evening attendance)'}, inplace=True)"
   ]
  },
  {
   "cell_type": "code",
   "execution_count": 18,
   "metadata": {
    "id": "pqXspgQPpaMR"
   },
   "outputs": [],
   "source": [
    "df['Course'].replace({4:'Agronomy'}, inplace=True)"
   ]
  },
  {
   "cell_type": "code",
   "execution_count": 19,
   "metadata": {
    "id": "8XAZWxPspaO4"
   },
   "outputs": [],
   "source": [
    "df['Course'].replace({5:'Communication Design'}, inplace=True)"
   ]
  },
  {
   "cell_type": "code",
   "execution_count": 20,
   "metadata": {
    "id": "sedO7avLpaRN"
   },
   "outputs": [],
   "source": [
    "df['Course'].replace({6:'Veterinary Nursing'}, inplace=True)"
   ]
  },
  {
   "cell_type": "code",
   "execution_count": 21,
   "metadata": {
    "id": "8J_1SLwjpaTr"
   },
   "outputs": [],
   "source": [
    "df['Course'].replace({7:'Informatics Engineerin'}, inplace=True)"
   ]
  },
  {
   "cell_type": "code",
   "execution_count": 22,
   "metadata": {
    "id": "sSew4LAWpaWO"
   },
   "outputs": [],
   "source": [
    "df['Course'].replace({8:'Equinculture '}, inplace=True)"
   ]
  },
  {
   "cell_type": "code",
   "execution_count": 23,
   "metadata": {
    "id": "hrvlwc1ppaYx"
   },
   "outputs": [],
   "source": [
    "df['Course'].replace({9:'Management '}, inplace=True)"
   ]
  },
  {
   "cell_type": "code",
   "execution_count": 24,
   "metadata": {
    "id": "nUF_e3USpady"
   },
   "outputs": [],
   "source": [
    "df['Course'].replace({10:'Social Service'}, inplace=True)"
   ]
  },
  {
   "cell_type": "code",
   "execution_count": 25,
   "metadata": {
    "id": "x9sIY1JRpahK"
   },
   "outputs": [],
   "source": [
    "df['Course'].replace({11:'Tourism'}, inplace=True)"
   ]
  },
  {
   "cell_type": "code",
   "execution_count": 26,
   "metadata": {
    "id": "J79nlelppaki"
   },
   "outputs": [],
   "source": [
    "df['Course'].replace({12:'Nursing'}, inplace=True)"
   ]
  },
  {
   "cell_type": "code",
   "execution_count": 27,
   "metadata": {
    "id": "2S0Y32EPpasZ"
   },
   "outputs": [],
   "source": [
    "df['Course'].replace({13:'Oral Hygiene'}, inplace=True)"
   ]
  },
  {
   "cell_type": "code",
   "execution_count": 28,
   "metadata": {
    "id": "ZQJHF6l_qC7E"
   },
   "outputs": [],
   "source": [
    "df['Course'].replace({14:'Advertising and Marketing Management'}, inplace=True)"
   ]
  },
  {
   "cell_type": "code",
   "execution_count": 29,
   "metadata": {
    "id": "ZuIPrWqcqC-X"
   },
   "outputs": [],
   "source": [
    "df['Course'].replace({15:'Journalism and Communication'}, inplace=True)"
   ]
  },
  {
   "cell_type": "code",
   "execution_count": 30,
   "metadata": {
    "id": "5QL5PrA1qDBL"
   },
   "outputs": [],
   "source": [
    "df['Course'].replace({16:'Basic Education'}, inplace=True)"
   ]
  },
  {
   "cell_type": "code",
   "execution_count": 31,
   "metadata": {
    "id": "oF1ifW2vqDEG"
   },
   "outputs": [],
   "source": [
    "df['Course'].replace({17:'Basic Education'}, inplace=True)"
   ]
  },
  {
   "cell_type": "code",
   "execution_count": null,
   "metadata": {
    "id": "VXNlAuzSntQb"
   },
   "outputs": [],
   "source": []
  },
  {
   "cell_type": "markdown",
   "metadata": {
    "id": "BxWffzL5pRQe"
   },
   "source": [
    "![image.png](data:image/png;base64,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)"
   ]
  },
  {
   "cell_type": "code",
   "execution_count": 32,
   "metadata": {
    "id": "dM-bQJGasbFO"
   },
   "outputs": [],
   "source": [
    "df['Nacionality'].replace({1:'Portuguese'}, inplace=True)"
   ]
  },
  {
   "cell_type": "code",
   "execution_count": 33,
   "metadata": {
    "id": "3pQp5YJDsbWl"
   },
   "outputs": [],
   "source": [
    "df['Nacionality'].replace({2:'German'}, inplace=True)"
   ]
  },
  {
   "cell_type": "code",
   "execution_count": 34,
   "metadata": {
    "id": "OT1MYivDsbf6"
   },
   "outputs": [],
   "source": [
    "df['Nacionality'].replace({3:'Spanish'}, inplace=True)"
   ]
  },
  {
   "cell_type": "code",
   "execution_count": 35,
   "metadata": {
    "id": "Qw-vLUpgsbpR"
   },
   "outputs": [],
   "source": [
    "df['Nacionality'].replace({4:'Italian'}, inplace=True)"
   ]
  },
  {
   "cell_type": "code",
   "execution_count": 36,
   "metadata": {
    "id": "lDl3322Osbxt"
   },
   "outputs": [],
   "source": [
    "df['Nacionality'].replace({5:'Dutch'}, inplace=True)"
   ]
  },
  {
   "cell_type": "code",
   "execution_count": 37,
   "metadata": {
    "id": "1YdNM8Ttsb5p"
   },
   "outputs": [],
   "source": [
    "df['Nacionality'].replace({6:'English'}, inplace=True)"
   ]
  },
  {
   "cell_type": "code",
   "execution_count": 38,
   "metadata": {
    "id": "HPM0MnposcBz"
   },
   "outputs": [],
   "source": [
    "df['Nacionality'].replace({7:'Lithuanian'}, inplace=True)"
   ]
  },
  {
   "cell_type": "code",
   "execution_count": 39,
   "metadata": {
    "id": "BOt1AqXrscKJ"
   },
   "outputs": [],
   "source": [
    "df['Nacionality'].replace({8:'Angolan'}, inplace=True)"
   ]
  },
  {
   "cell_type": "code",
   "execution_count": 40,
   "metadata": {
    "id": "NKlJ0zS-scR8"
   },
   "outputs": [],
   "source": [
    "df['Nacionality'].replace({9:'Cape Verdean'}, inplace=True)"
   ]
  },
  {
   "cell_type": "code",
   "execution_count": 41,
   "metadata": {
    "id": "tWirC32dscbS"
   },
   "outputs": [],
   "source": [
    "df['Nacionality'].replace({10:'Guinean'}, inplace=True)"
   ]
  },
  {
   "cell_type": "code",
   "execution_count": 42,
   "metadata": {
    "id": "xLzIqfEqscir"
   },
   "outputs": [],
   "source": [
    "df['Nacionality'].replace({11:'Mozambican'}, inplace=True)"
   ]
  },
  {
   "cell_type": "code",
   "execution_count": 43,
   "metadata": {
    "id": "4SsvELbPscrI"
   },
   "outputs": [],
   "source": [
    "df['Nacionality'].replace({12:'Santomean'}, inplace=True)"
   ]
  },
  {
   "cell_type": "code",
   "execution_count": 44,
   "metadata": {
    "id": "31pM5sdQsc2S"
   },
   "outputs": [],
   "source": [
    "df['Nacionality'].replace({13:'Turkish'}, inplace=True)"
   ]
  },
  {
   "cell_type": "code",
   "execution_count": 45,
   "metadata": {
    "id": "OMrrqRC7sc--"
   },
   "outputs": [],
   "source": [
    "df['Nacionality'].replace({14:'Brazilian'}, inplace=True)"
   ]
  },
  {
   "cell_type": "code",
   "execution_count": 46,
   "metadata": {
    "id": "oK6Y0XiMsdHw"
   },
   "outputs": [],
   "source": [
    "df['Nacionality'].replace({15:'Romanian'}, inplace=True)"
   ]
  },
  {
   "cell_type": "code",
   "execution_count": 47,
   "metadata": {
    "id": "karxJS2SsdQx"
   },
   "outputs": [],
   "source": [
    "df['Nacionality'].replace({16:'Moldova (Republic of)'}, inplace=True)"
   ]
  },
  {
   "cell_type": "code",
   "execution_count": 48,
   "metadata": {
    "id": "ObuHQzKxsdZd"
   },
   "outputs": [],
   "source": [
    "df['Nacionality'].replace({17:'Mexican'}, inplace=True)"
   ]
  },
  {
   "cell_type": "code",
   "execution_count": 49,
   "metadata": {
    "id": "6V2yyuBPsdiW"
   },
   "outputs": [],
   "source": [
    "df['Nacionality'].replace({18:'Ukrainian'}, inplace=True)"
   ]
  },
  {
   "cell_type": "code",
   "execution_count": 50,
   "metadata": {
    "id": "NGx55jt0sdqy"
   },
   "outputs": [],
   "source": [
    "df['Nacionality'].replace({19:'Russian'}, inplace=True)"
   ]
  },
  {
   "cell_type": "code",
   "execution_count": 51,
   "metadata": {
    "id": "8sOVjpkesd6P"
   },
   "outputs": [],
   "source": [
    "df['Nacionality'].replace({20:'Cuban'}, inplace=True)"
   ]
  },
  {
   "cell_type": "code",
   "execution_count": 52,
   "metadata": {
    "id": "XaXSAH5yseCX"
   },
   "outputs": [],
   "source": [
    "df['Nacionality'].replace({21:'Colombian'}, inplace=True)"
   ]
  },
  {
   "cell_type": "code",
   "execution_count": 53,
   "metadata": {
    "id": "Oi3w_r1HwFLU"
   },
   "outputs": [],
   "source": [
    "df.rename(columns = {\"Nacionality\":\"Nationality\"}, inplace = True)"
   ]
  },
  {
   "cell_type": "code",
   "execution_count": null,
   "metadata": {
    "id": "hEQWC8Wzsek_"
   },
   "outputs": [],
   "source": []
  },
  {
   "cell_type": "markdown",
   "metadata": {
    "id": "TXaRzprIpXk4"
   },
   "source": [
    "![image.png](data:image/png;base64,iVBORw0KGgoAAAANSUhEUgAAApYAAAA3CAYAAAC2LQpoAAAAAXNSR0IArs4c6QAAAARnQU1BAACxjwv8YQUAAAAJcEhZcwAAEnQAABJ0Ad5mH3gAAB3ESURBVHhe7Z0PUFRXnu+/Gep1njPtMwPrrJgMaAR1wCS2Zv33ILC2mG3DTDukoLSgkgejJTM+SRxkkxGTgMMgIoiBwYHBQMkLCSUbIgmbnkUxMBiVWYWs/Nlo80ab1cCGpScUvevaFV+/c+69Dfc23dANFydmf5+qLjn3nj7n3N+/8zvn3ts+5GCAIAiCIAiCIGbIt6R/CYIgCIIgCGJGUGJJEARBEARBqAIllgRBEARBEIQqUGJJEARBEARBqAIllgRBEARBEIQqUGJJEARBEARBqAIllgRBEARBEIQqUGJJEARBEARBqAIllgRBEARBEIQqUGJJEARBEARBqAIllgRBEARBEIQqUGJJEARBEARBqAIllgRBEARBEIQqUGJJEARBEARBqAIllgRBEARBEIQqUGJJEARBEARBqAIllgRBEARBEIQqUGJJEARBEARBqAIllgRBEARBEIQqUGJJEARBEARBqAIllgRBEARBEIQqUGJJEARBEARBqAIllgRBEATBudaA0hPtsEpFgiB8Z5YTSztsNzrRamqHedDGSvcRuw3WwUFYrTbpwOxit7K+eH/Oz4ibq719HvUtg1LhG869QbTWn8fAPak8FTare5nJsI94kKuX2HpNOHN5hvbA7UpmU6q0OSk2mE0mdIxIxfvITOX9tcNFd/cXOyyNJTick4tSU790zAu4X6g9ZjXi0D0eX2Ux3ac2vbBp1/ZnDJuLWFy2TdrgIGoLymFbthb+0hEnQnyfSg32fpwpyWU6LsEZH1T852DWfJvZq/nCeXTf8FJ3symzr4M+fPJfOzpqclF94c8Vo9Rj1hJLa0shfrJlCwwpGTiQn4mU7Vuhfz4D1bM6CctoK4RxexKMe+tgkQ7NHn2o3cv64v05P1u3QJ+Qi1ZZ8OyoLUDRsRp0SOVvNJ01OFpSgNpOqTwFltp9MBael0ruuVjI5DpFHc9Y0VRWiIPVppntRnC7GrMpldqUYes7jzOdsgl6yITSwkJUN83yHspgJ8609bEpf5yZyftriEJ39xdr3T4knTDDPywcSxe4pi0SbnQg+IXKY1YlDt2oQ8b2QlyUij616Y1Nu7Q/c87jKIvLR9ukojsu1OCk1YDnIqUyZ6QT1T9PYHNXEjJq+6SD7rCifl8Kfm0OQCjTcaAHFX9dmA3fNtdmIGFrEvYVFiNz91YYdlbBPOnGwmzK7OuhD9/8V4NVugA0MT/qlo48qMxKYmlryUZytgnX7wDaxTrE6jdi/aMaputOVLyahuprUsVvGEsTy9D28Vnxc/YUXl3+BxzIMY1NFKvST6PtdDpWSeVvNE+no+Hj09j7tFT+s+OPuGKml+L4CbsR00f9NodbKnHw/V6pxJgfj2Nnz+JY/CxHxp4PcPBEG4alIqEuoyMsCjy5FTvjjIjRaaWjLtwnHcxGHPKpzftl0z5y8XwzsHYNVkhl9FbhJwmZaH3UgLhHpWMescI2Aqw27kJc3Eas8KDibyx9VcgrH0ZM8Wk0vHcKDR+W4cV7NcgumWxnYTZl9oDqI0yPzXMa8PeTLYAeAPyyGNLfKtGLk39bjkv/AQTHHkHt4RcQ9UwkYlhA/b65Hq39VnSMPIaUv14s1QfsN86hpvI4ygqrcfbqbfg9rsOS7/qJJ3vrcLi8AZ/8awBWPnQBFfnHUNxwEQPfCseaUJm18G3v4zkoyK/H70cfwerv3EDtJ/3AvCcR92MdHhErwdJcjarflKOougn/fBtYpAvFI1JX431psaT/HbyWfRz/NygOa77TidrSv8NA8Fos+R9SXQVW/NPpRliCY2FcJQXLb83Bkv93DVWmEazZtgGBvFZLOYo/+k+E/VUQ5gydR0VROx5+yo5zBYeQ91sTzNa5WPJUEObK0n1rew3KfnMCpVUmdN+2Y+Hy5Qj479I53t4/+rGx/h1+mV+I7u/GY/332pnM38fwkrVYJBtrd20uav4lGOtD50lHJO54Uf8e09m7x1FRzj4fXcHA3UCE/WA+W19Jdety0TAUiIc+KcPh/A/w5dObscLOr48l1T94Gou+wypN0cZIRwPqR55EwtwLKPpVPsp4HUcoVi6dB6d6LB9X4xwiZbbDby8eR/GbJWKbLvVd4eOs6g1ARPh8wEv5C7ZZWoQj/PydBVipvYaaf5o3ZlOKNoUvcDvMR0lJFX53xcWWOcL5UpSfKEF9Wz+smsfx1CLRjnlb1R/3wvL5Fxi61o97gux6UZ9TgX/+i0gwcUk6/zZW3mmS5PQZbN8JHWtDRC6Xz2D/Sx3wSQHTUThWL5oj1RlHaPO9dly/PYjhGz34UupLlPcaGP7zd4J9nfwHs9DWioVOrYkINvrmcRTVteLW6DwsC38McyZbsg4xmyt7E6WFzFe/8MOKx/4VtcVMF8+E43tSFUWdWyMICH0SgdyOhHPq6E7Am36W9KPul4Uo6HoE8RuCpJNKPMvAitbjRahrd+q1E19I8pXjSQeCX/QHI+r7vahm+i4+fRFf/LcnlbGP4YsOFHGIxev6nHp8seQxmE9mi/Hzi3tYJIszAkOsXiXrXzjPdPa4DecaR/DU/4rGInZa3qYfG0vB+/+GJWsXY674beb/LIbmvoOB729g/qC0aQEf2ndasBh3ZDY9iW8BN9B6ks3Wz7D56HHpkIJ+fPxWPR76n2mIWS7Zt6UPd36YhUzjIzA3uMR3OYKd1OGTa7dxa/AW/tg5iEectjxpPJBk/5d+uFTG7Pi0DaufDR+3TQnh2lmcD7Odw5HsHNS2DeLhcDYXjZ5HdXEBjvyfc2w+XD4h9k02d8w0lrrSXX0I1XMTkZe4XIzp3/LHU/63UHHyX7AkcQO+L9SSMZnMJvNJb2Q2XX04/f0HzPYO5+DgO62irzFbbK0sxrGjNTh32w9L5TkDw37DhLLS36LqTT7eIWiCdWNzqdN/5TFncl/1h5+lAUU9AYoc6UFjsvA/PfrbcWmI/6HDtl26scQB0CLmDbaSefdtNLy8RjrGuFaFn+7MRUVjJ27Chq4LDTiYkoCDzdI+30AvGpvPobGpDAfSSlB7uQ+WXmZ4+ak43CLVudeH6tQUHKzvRLe1DxdrspBcPnGlZD6RiqScGtR39uPuSB/O1BciKSF7/Hb1WF/lOJhvwhUe5Nm5jhPZKG1k4zpcx6YJb7Gj49MeIDQMS6Ujo33taGw3Y5QXRsy41GxCUfY7GA0z4MW4cAw0ZiG1sF2oyxmoTYMx0wR7WAJ2/ywBi/qrkLK3amxbXWiv7hC7bjtWxSUjKpQdnBMKzUADauXPO9lMqD3xKbTBbibFKesPoj4tAS812rA0fg92x4dgoDoNL1WN3xYa7jrHnDULpV2BeCbRiNU89grX1w6LINup2xCwvI2MY31sQZKIF/VBTF8p+OkJT7efmLPnJCGlxoqlUn1LVSpSjnteIfNxNnZJ1+mF/EXbLEaHvx4vJhoQ3FeIjBrlTQ1Fm7bzOLw9FRU3gpgcEvHc4kFUMLuscA7pXjuKEsTbM+uS0/HCerBrGLfjgBCWtAWyidA/FKtWh2OhMF8OopvZZPeAUEXUeWMBC3o2hLLrjgsfxHvZqSi6IJ7nCHZ+woxAPZNLbDAsx/ahqPEcLvW5t17NY+FYFcqUNicQK1azoCifO69W4eAf/NnCMFno692MNFTLVGKpTkX8oXZo1xuxM24l7KZsxL86vks/gZFzOLgzE422lYjbYcQ6PxMOvFaJM8294zt1fTX4adIhXJoTIdRZdceEjKQMsDxDRCXdeddPHfKyGmBfya5vY4h0QolSBhHQth+CcafTTzVY+IRcry7ylZhUB0MNKJX0vTNai4uFLNY54yPDVx0o4pBgX82ozspistrI5BCJgAslSNlfB8nkJJ2lod4q09nhNun7IvI2NY9rMFB/Cq1s4e7EZnoHpVe1CBTmSqVN+9q+E+57YzY9hW9NTR9u3tAgcL4sYX86HtvClIsot8xZwHQWhmDmrwGhOqbjEATw41I8OGkNw3M8HoRZcXJngmxMouwr2KKlewGzU5Z8CN9zQfT5EuR9YMd65ofr0YyDe1Px8i+boVnN7J/bxLFU5MlsYqq5Q4nvsVSJDTf72XfDwtksL2ODDqvv9MDsLoR7kpmLT66b047s7SmymOOFzLzUxzOP9ivjszOuHPoAdu5La4Gm/DT8dHcWG4+OfYf7RiFSc86N+xYrx6eUw+wfgRfSk7HuXhsO7GY5hQez88ZXVzwRDvT0PNi3wx1e0+zIjtY7IuSf15qlczLOZonn4oodXdIhx0CHo+mjj2SfDsfn4gnHuzt4W0ZH9tlR4Yjjs0pHip4diy8Tv+9sT5/s+O1VVufugOPD/QZF/6Mf7hPLhv2Opi/Yga+GHU3OOi9UOm7ySrfedqTysjHL0fIlP+BwXK9IFuoklvaIB5x98fF8aHGMfjnqGL3Ljn92ypGRuMtx9PfSGCdgdpx8gfcf74iPkz6xBseP9p1yXOffl7jJ+3OOx8yuMzrecfQfhVMivH9DgeOCVLz7pdnR1SPrc/S0IyM62XHSIhaF9uIKHFe+EstORk8zeTj74WUuH6c83SCc91j/rmP0sw7HdUlmHKH95PH6La+xa99z2qGQjnB9bKxmXpi6DeFa9PscH8rqODqKHYn8mNSw0I/T5rg+Xes7j3lQk+L7U8p/1PHhPmYbRR1CSYQd28vakMlK3ubnb+9yROx4W7JtkZsfFjjy3hOEwOxy1PF5R4/jc5m+uoriHRFZbVJJkoPCr0S/yz4rltzpnI/hbw5fEgujHzky9fGOXyuGzY/pHSkV0jjcwa9ddl2ciXoVr3+sna/aHHnM5hV9Scd+K7mUK12l7Hr3Km1FOBbN/FIqX8g1uMhdOub0U5V0N61+XPmK6UdvcOT9Xipzvupw/Dpe78iUGeJEvbrBjQ7c6VuwGWdb09CB0OZYP6J9Zbwn04hw3Xsc7/FYynCrMz4Gmc6UbYryH7c3SR9OubrYtO/ti3D7HLfF0Sl8S9nnRPh5Z7xyRYzvk/qPVEfevjBml3ggxL2x2OpG9m4QbUA2n37F/Dna4Dj6iVRmtGTpHfEyW55q7lDEwmnEUiUTr12EX5+LbSqY+D0hluWOx0OOoMd9H0n24Z3M3LUtxGcXOxOOOduW/F0+3qb9stjK+Zj5qFwXowOOrqsDUoHDfD9O78j7WCwp7NZbXxXGMW77DyI+7FhqMNffH4Hyzzw3qznnFvEd+/jqkj87lF8o+3yA6/z4UBtbcfI/NLBeLBbemDxcxw7wZofa0SF/k+vRSGx+gq2HNAsQG6GTDorc7BPXYdroHyGG31rx80dMDFtuyLC2tYsrAM0wLglviuWinnXFV1iWy+3KlVyQES/GBkE7TwstH8uyeOS/XYa9kYr12AQCdWwVsiNZ/CTH44lbVcg8JFvdTECLAPkefnAQlt4Zf5tOMy8EK4LsMF8w4UxNCQ4fMkF4PFX+up3WHwEu9yu0+o2Iut2GVkG2NrS0dmKF0Tj+7JAL2ujJ6mugXaZD8L0+XDSZUMtkd7TRDLg+lP3IXOVqVYGXbSxbgw3yO/W6NVitYSveq1JZhu3yp2zF+l3YuWxYm8LnqpW1aYGFNe0dk8nfDMsfNVi9Rm5rWkRHKW1vHBuuXOnDar1BeOzBSXBsOl6Jk3a6/LTMRkIwt5//UkIDqgtzUd3Ox+zj25kuOl8UFASb7d/FgrkP1zVrsUox7Eise1L621cUetVirlzJVztxBcHQDMp00GTB3TlWmM3urN7GfNXKZBqpsJUV6yNlMutEx2VgoWZwvE32sdi0sPSZZb40U91Nsx9XrvKdhbVYJ3/hw0+HVU9rcKW3RzowQ1z0PVcrk57POnAPj3VjhASzFm3CM2oedRYl15kroqyvt7WJcdXG4nxnCGKNYcJZJdNp3w2q+JYdd739FYspsaGrtx9LNyivQ7uBxbShHlwX7uqJKGTvCabzsccK/B5mEXUBAsaeG2Ex4NEgDFj/JJW8nDsk1ImlntBA823pzynpRDdzmej1EVJZZMWatdD29KJLKnO8kpkCMT4H+9uFOch5nd1cD3/sw02xEoPJeUzQbPTM7xb6y/ZEH2Nxxmodv7uiXYAVy1jM6DyPM/VVKMp5BxeZ37i1I5V89UHAh8QyAnvfO4VT8k+60gAEwsOwmv97hwV3562QyHTxFvivjEysDDYR8udmMGKTkk8bbnR+iivCx4zROTxxDRDyS7dolGeGR8TbIXPlx+exNqQ/OaM2SXEj/VI/7MOUKSTLj/hqpO6Zu3gtYgwG8ROXjJyyXVjUVoZ3Ze9i+IK5KhX6rUnIe59NglZ/rHpuLZ6Qzk2KlvW/oR9NTaxjKahHRS+QTrphsvr8MYOdW6BPysX7Vzox7K9jdcPFc97ibRtMD8q7hAFsTmULlDtSUcawlbm2fRBm1l7H2GcUi/QrEfiwVGlG/DubWLXQSI9vOdG62N44Vli/ZKY5x6PVCrf8Dj+/BcZXqtDKghwWP4NndJPoZTowXxhgY5DFRoYWD7tchyrwvliItSh0YMHDuo0IneduQvcgo2+zyUf6U5Q70y9LEMbb7IRlzkrEhgS4mxfd4I3u1OiHwWWwYAEWSkUnf8Hiz1iyP5v4rANf8UZnE9HyGHjbBCGktJxD6+JIRLl9AWZ67U9gxr71XQT4D2LgllScMeJ1BS5wefzIX8u80Zm0zx6+zB0zj6ULwHMvyw1hZ2Ic2yi7Uo0PsYf7JGvLdUURwBZ3sg2X6SHqwz5gll0j+9iCEDuDGGxrzkbClgRknDCh4wZb30ZEYLWn5mbdV78+qP+M5fxIPCMsTPvw7rEG8XcMNSxhmM9W8L9rFlaw2uWhYoIZEoqlwko8BC9WOhPWSrxZUIyy0l948SaeCN+x4QywVY3zsR2uvLFnhBjBbBUusCwZlc7EuLIYR0pZXwcM4ng8wn8DzQq7r6vZeeEIXcCMST4Qr2lHY10/Nr/xEd46sh+v7ElEzJP+XjtXVMxGDLe0oaOZBfUnDYidQpaK+sv02Oys396Ad29HIP/DSuQf2I/diQY8wZI9n/C2jc/6lM+V2Hpgvs0WIfzZUReCFzON3QvFc6y9V1w+ce42RnwmCIFBbCV5TVy0OOm+5mkJH4TQ5Rp09X4qlSVkv89pNZ1Go38y3j5VjNcPpOOFuAgs0qgcUPjCztqDbtnzbbh3Hh3ePi7lC4/zXcIArHt5og52Rrt5kNCDjAYus4RO+luUux0B69MmtPnKzyK8fPveG92p0Q+Dy/t2D7pkO1BM6bh2bRBLF7t/JlNVfNaBrwQhmLla1zXl7quN+ariLo8rfhsRo7ehtaUdLec6J+zkj+Nd+wHzJzxJp4jHM/ctHZYuB673uSRH00a09Stdsud+OVf7cN0vmM1HUnlW8G3umHks1eKJsCBcb29XzLm2lvO46K/DKvfvu7khDKHLBtHTqfRbwRYWS5tR00a0M4QaJlzjKwfiPd7NmxwrmurbEJBciVOlv8Ir6cmIiw6Cxs1GiIC3vvqFFZ+73IV80FA/sWSrl7i0RCFhtF4uYdn8ViQ8nwDjDxNwsM3GAk4Ydr7g3OmMwHOxXKC9KErNRHV9A6pfTUVCShKMaXXMAcVaUxG82YDVvG5fFV5i7RzOTEUGcywFkT/CNn6bvKsEqa9Wob6+CgdSk5C0PQlptZP/emr38SQYtidAP9lLCS7Yrf24WF6M+kHmWMq78l4SwIKpHcNDTiezoeNEg/e/6xbJkkObCdlVnYjaqFfcZnKLvL7BMD6xfs8fC+1/woBzGCOdONngY5bibRsjJpSW94oB8J4VZ/KrcDHMgBh3gYnr068BRc76DKspG8Yt2Wj15Ng+EYSYzWG4UluCM1LSYO8tR6lJGfTkrI8xIKC5EhW90ojYdRbtTkBmo/gdfz45jgxiwDng2/ylKTftfTkM63Rvyc034MfRgyh9rRCtLLmxDvah/tUyXPBm+4clwcOeZh93BMXjx7pOVOSbxsbLZfSTZ+UP2ytZHxePhc0FOFDDksnBQVgulOBg/aDMPoMQZ9ThYlXhmNxZo6hI2YKfuL7s5RFvdKdGPwwm7026XpwsGZeB1VSIiqtheG6z1zPqOPdBB74Sxexa01Q+btdDJhytnjoGrI/SY7jpEJOFDpuEOO8eb9rXhoYguL8N9cLtbRvM9ZmokOVsXvvWJKxfo4PlaidLF9RBiAfy6+L2VdKAu5v/BlHikVnCx7nDm1hq448xnYenO7bB8Uasv1GH0vp+sQ2uwxOdWBpr8CFp88fmzTqF3wrtsDlpNZvjeV44E6J+ZISmsWRcH3yOeX0rDNnnPSbdk+OPAGZ2o4MDY98faHgHHn+e1UtftfZbYFsWNr7DfK8PjTmZKOX50wPCLCSWjGXJeOtkOmIXs9nMbmMJhRVWZqDaxRvx+slixU7kij1lyOHPMw61M6djSm9nk8xiA3JKd3lvkI/GI+cNA5ay7gausdXaZSD25fixt7EF/HTYXZqFODYmS3sNikpq0DqkYYafheJdky/LAvzFvW3/+f6TJmjXa1IR+debhI/++VTkXQ7AzuJfIXZad9pDELfDgOHyBESy5NywKQEV89b6EJDWsslVA6stEjEGbwbA6sfy+jqsi5bVD4nHDsMAShM2wfDDLYhMKMfctT5myt62sWEXtg1mQf/sFhieTUDeHyORnxvvfqeD67MoHUvb9kG/idffBGOJBdG/SEeUSrd9A7flIj/SjDw+7i1boH9tENt2yR+mc0G3B0f2BOPMXnaN7Boit2biYvAevL5NujcSnYi9j7XjJXbOyOWQ9imWRiqTj+D4JMTeLoeRXZP8TW/v0SLqQCVydBZU7E9D6u4CmDcW4H9P9YwlG9tO/2Y2tk14udbbqVWL2DeO4HlblTBewxZm93ub2Qp+P17wtCMTkozfFCdC03IIGbvTkPm+Fjt/YVTcStYa38CbsTZUbGftMblHPrsPZwKS8arHRifije7U6MdVBnrBDgcQm5fr9R2XMe6XDnxlQzoKdgTgTBq7Pi6npAYs2uESX92xwYA4jQ1W3UbIQ8oEvGk/LBG7Y+1ofJXFw01bkdmlx7YN0jmOF741FVo9W8TeaEaTfLd/JvB4kB6CS854wO3rsT0oS5/WToMP+Dh3eBNLbzejlCVENz3F1nlGvJ5ngO1ECvR8DkwogSUyC28m+2aECp/kMtteAuvmI8hxxtCZINcHjwlMLkdvReL1lyN8e+xCRlTiLiy8kMHGuhVGJreXPg1DtEez885Xu3p7sWJD5Pjmzh0zLrW0o+kPM37g9b7xEH+DR/p7duD/NdeQHVqWlPEHYT0i1GMZuXYBfwxl2thHbNBM9WAvvz3Ju5pqTDLsNtau/KH5+4Z4Gx4suRVeJPKB7uMJyBhJg+kXbp6F9RXhv8Pj6tFO2wm9boPr554W/u5eDnMD/+/JbLz+TAxnMny+9il0xq/Prpm98fLVsMKubWj8+Va8/0Ql3kqexi6aNwg+pfFORq7j6yxBQoYVu8++oZz8pJigmYbtj+GN7tTohzPbep0KX3QwHbyN5dNFjfZnqANLVQoyrXtQmS7/qbyZMv0YPjN879djLDVlIrJxJRpKp/7PIPh/f2ln8/iMrnVWbU16tG2GuYYcfs02jQ/tefJVmwkHnj+Hde8dmeaG1NeD2U8sifuObYg5trUNeXvrEFpwCjtVeeaQeDAYRG1qCs4sfwM5P1uLQD8bBlqK8VLOp4gp/fPbgv1CLpLy/4RtBW8gLkTLJrJO1O7PRMW398B0xMDW9ARBfN0wlychzy8Lb+1QaxuccIe5PAXZd/bg7Zc9/frIgwEllt9Auo/zH1DWYEXiPrzu/Kkb4r8Ot00oyq1CYy9blbOidkEYYndlYbcqL3PMFBs6agpRWtMm/Jev/MW+FWsT8fMD8Qi9r7s5BEF4y0Dnedgej4Drf9xGEO6gxJIgCIIgCIJQhdl5eYcgCIIgCIL4LwcllgRBEARBEIQqUGJJEARBEARBqAIllgRBEARBEIQqUGJJEARBEARBqAIllgRBEARBEIQqUGJJEARBEARBqAIllgRBEARBEIQqUGJJEARBEARBqAIllgRBEARBEIQqUGJJEARBEARBqAIllgRBEARBEIQqUGJJEARBEARBqAIllgRBEARBEIQqUGJJEARBEARBqAIllgRBEARBEIQKAP8fbPfHTm5AjAQAAAAASUVORK5CYII=)"
   ]
  },
  {
   "cell_type": "code",
   "execution_count": 54,
   "metadata": {
    "id": "5DGvFycPmi_y"
   },
   "outputs": [],
   "source": [
    "df['Gender'].replace({1:'Male'}, inplace=True)"
   ]
  },
  {
   "cell_type": "code",
   "execution_count": 55,
   "metadata": {
    "id": "ABK9yR7AnX3i"
   },
   "outputs": [],
   "source": [
    "df['Gender'].replace({0:'Female'}, inplace=True)"
   ]
  },
  {
   "attachments": {
    "image.png": {
     "image/png": "[encoded data removed]"
    }
   },
   "cell_type": "markdown",
   "metadata": {},
   "source": [
    "# ![image.png](attachment:image.png)"
   ]
  },
  {
   "cell_type": "code",
   "execution_count": 57,
   "metadata": {},
   "outputs": [],
   "source": [
    "df['Debtor'].replace({1:'Yes'}, inplace=True)"
   ]
  },
  {
   "cell_type": "code",
   "execution_count": 58,
   "metadata": {},
   "outputs": [],
   "source": [
    "df['Debtor'].replace({0:'No'}, inplace=True)"
   ]
  },
  {
   "attachments": {
    "image.png": {
     "image/png": "[encoded data removed]"
    }
   },
   "cell_type": "markdown",
   "metadata": {},
   "source": [
    "# ![image.png](attachment:image.png)"
   ]
  },
  {
   "cell_type": "code",
   "execution_count": 59,
   "metadata": {},
   "outputs": [],
   "source": [
    "df['Scholarship holder'].replace({1:'Yes'}, inplace=True)"
   ]
  },
  {
   "cell_type": "code",
   "execution_count": 60,
   "metadata": {},
   "outputs": [],
   "source": [
    "df['Scholarship holder'].replace({0:'No'}, inplace=True)"
   ]
  },
  {
   "attachments": {
    "image.png": {
     "image/png": "[encoded data removed]"
    }
   },
   "cell_type": "markdown",
   "metadata": {},
   "source": [
    "# ![image.png](attachment:image.png)"
   ]
  },
  {
   "cell_type": "code",
   "execution_count": 61,
   "metadata": {},
   "outputs": [],
   "source": [
    "df['International'].replace({1:'Yes'}, inplace=True)"
   ]
  },
  {
   "cell_type": "code",
   "execution_count": 62,
   "metadata": {},
   "outputs": [],
   "source": [
    "df['International'].replace({0:'No'}, inplace=True)"
   ]
  },
  {
   "cell_type": "code",
   "execution_count": null,
   "metadata": {},
   "outputs": [],
   "source": []
  },
  {
   "cell_type": "code",
   "execution_count": 63,
   "metadata": {
    "colab": {
     "base_uri": "https://localhost:8080/",
     "height": 495
    },
    "id": "qqyfpZw0KMSd",
    "outputId": "de8fc4eb-1572-4375-d370-f3c5639595f7"
   },
   "outputs": [
    {
     "data": {
      "text/html": [
       "<div>\n",
       "<style scoped>\n",
       "    .dataframe tbody tr th:only-of-type {\n",
       "        vertical-align: middle;\n",
       "    }\n",
       "\n",
       "    .dataframe tbody tr th {\n",
       "        vertical-align: top;\n",
       "    }\n",
       "\n",
       "    .dataframe thead th {\n",
       "        text-align: right;\n",
       "    }\n",
       "</style>\n",
       "<table border=\"1\" class=\"dataframe\">\n",
       "  <thead>\n",
       "    <tr style=\"text-align: right;\">\n",
       "      <th></th>\n",
       "      <th>Marital status</th>\n",
       "      <th>Application mode</th>\n",
       "      <th>Application order</th>\n",
       "      <th>Course</th>\n",
       "      <th>evening attendance</th>\n",
       "      <th>Previous qualification</th>\n",
       "      <th>Nationality</th>\n",
       "      <th>Mother's qualification</th>\n",
       "      <th>Father's qualification</th>\n",
       "      <th>Mother's occupation</th>\n",
       "      <th>...</th>\n",
       "      <th>Curricular units 2nd sem (evaluations)</th>\n",
       "      <th>Curricular units 2nd sem (approved)</th>\n",
       "      <th>Curricular units 2nd sem (grade)</th>\n",
       "      <th>Curricular units 2nd sem (without evaluations)</th>\n",
       "      <th>Unemployment rate</th>\n",
       "      <th>Inflation rate</th>\n",
       "      <th>GDP</th>\n",
       "      <th>Output</th>\n",
       "      <th>Unnamed: 35</th>\n",
       "      <th>Unnamed: 36</th>\n",
       "    </tr>\n",
       "  </thead>\n",
       "  <tbody>\n",
       "    <tr>\n",
       "      <th>0</th>\n",
       "      <td>single</td>\n",
       "      <td>8</td>\n",
       "      <td>5</td>\n",
       "      <td>Animation and Multimedia Design</td>\n",
       "      <td>1</td>\n",
       "      <td>1</td>\n",
       "      <td>Portuguese</td>\n",
       "      <td>13</td>\n",
       "      <td>10</td>\n",
       "      <td>6</td>\n",
       "      <td>...</td>\n",
       "      <td>0</td>\n",
       "      <td>0</td>\n",
       "      <td>0.000000</td>\n",
       "      <td>0</td>\n",
       "      <td>10.8</td>\n",
       "      <td>1.4</td>\n",
       "      <td>1.74</td>\n",
       "      <td>Dropout</td>\n",
       "      <td>NaN</td>\n",
       "      <td>NaN</td>\n",
       "    </tr>\n",
       "    <tr>\n",
       "      <th>1</th>\n",
       "      <td>single</td>\n",
       "      <td>6</td>\n",
       "      <td>1</td>\n",
       "      <td>Tourism</td>\n",
       "      <td>1</td>\n",
       "      <td>1</td>\n",
       "      <td>Portuguese</td>\n",
       "      <td>1</td>\n",
       "      <td>3</td>\n",
       "      <td>4</td>\n",
       "      <td>...</td>\n",
       "      <td>6</td>\n",
       "      <td>6</td>\n",
       "      <td>13.666667</td>\n",
       "      <td>0</td>\n",
       "      <td>13.9</td>\n",
       "      <td>-0.3</td>\n",
       "      <td>0.79</td>\n",
       "      <td>Graduate</td>\n",
       "      <td>NaN</td>\n",
       "      <td>21.0</td>\n",
       "    </tr>\n",
       "    <tr>\n",
       "      <th>2</th>\n",
       "      <td>single</td>\n",
       "      <td>1</td>\n",
       "      <td>5</td>\n",
       "      <td>Communication Design</td>\n",
       "      <td>1</td>\n",
       "      <td>1</td>\n",
       "      <td>Portuguese</td>\n",
       "      <td>22</td>\n",
       "      <td>27</td>\n",
       "      <td>10</td>\n",
       "      <td>...</td>\n",
       "      <td>0</td>\n",
       "      <td>0</td>\n",
       "      <td>0.000000</td>\n",
       "      <td>0</td>\n",
       "      <td>10.8</td>\n",
       "      <td>1.4</td>\n",
       "      <td>1.74</td>\n",
       "      <td>Dropout</td>\n",
       "      <td>NaN</td>\n",
       "      <td>NaN</td>\n",
       "    </tr>\n",
       "    <tr>\n",
       "      <th>3</th>\n",
       "      <td>single</td>\n",
       "      <td>8</td>\n",
       "      <td>2</td>\n",
       "      <td>Journalism and Communication</td>\n",
       "      <td>1</td>\n",
       "      <td>1</td>\n",
       "      <td>Portuguese</td>\n",
       "      <td>23</td>\n",
       "      <td>27</td>\n",
       "      <td>6</td>\n",
       "      <td>...</td>\n",
       "      <td>10</td>\n",
       "      <td>5</td>\n",
       "      <td>12.400000</td>\n",
       "      <td>0</td>\n",
       "      <td>9.4</td>\n",
       "      <td>-0.8</td>\n",
       "      <td>-3.12</td>\n",
       "      <td>Graduate</td>\n",
       "      <td>NaN</td>\n",
       "      <td>NaN</td>\n",
       "    </tr>\n",
       "    <tr>\n",
       "      <th>4</th>\n",
       "      <td>married</td>\n",
       "      <td>12</td>\n",
       "      <td>1</td>\n",
       "      <td>Social Service (evening attendance)</td>\n",
       "      <td>0</td>\n",
       "      <td>1</td>\n",
       "      <td>Portuguese</td>\n",
       "      <td>22</td>\n",
       "      <td>28</td>\n",
       "      <td>10</td>\n",
       "      <td>...</td>\n",
       "      <td>6</td>\n",
       "      <td>6</td>\n",
       "      <td>13.000000</td>\n",
       "      <td>0</td>\n",
       "      <td>13.9</td>\n",
       "      <td>-0.3</td>\n",
       "      <td>0.79</td>\n",
       "      <td>Graduate</td>\n",
       "      <td>NaN</td>\n",
       "      <td>NaN</td>\n",
       "    </tr>\n",
       "    <tr>\n",
       "      <th>...</th>\n",
       "      <td>...</td>\n",
       "      <td>...</td>\n",
       "      <td>...</td>\n",
       "      <td>...</td>\n",
       "      <td>...</td>\n",
       "      <td>...</td>\n",
       "      <td>...</td>\n",
       "      <td>...</td>\n",
       "      <td>...</td>\n",
       "      <td>...</td>\n",
       "      <td>...</td>\n",
       "      <td>...</td>\n",
       "      <td>...</td>\n",
       "      <td>...</td>\n",
       "      <td>...</td>\n",
       "      <td>...</td>\n",
       "      <td>...</td>\n",
       "      <td>...</td>\n",
       "      <td>...</td>\n",
       "      <td>...</td>\n",
       "      <td>...</td>\n",
       "    </tr>\n",
       "    <tr>\n",
       "      <th>4419</th>\n",
       "      <td>single</td>\n",
       "      <td>1</td>\n",
       "      <td>6</td>\n",
       "      <td>Journalism and Communication</td>\n",
       "      <td>1</td>\n",
       "      <td>1</td>\n",
       "      <td>Portuguese</td>\n",
       "      <td>1</td>\n",
       "      <td>1</td>\n",
       "      <td>6</td>\n",
       "      <td>...</td>\n",
       "      <td>8</td>\n",
       "      <td>5</td>\n",
       "      <td>12.666667</td>\n",
       "      <td>0</td>\n",
       "      <td>15.5</td>\n",
       "      <td>2.8</td>\n",
       "      <td>-4.06</td>\n",
       "      <td>Graduate</td>\n",
       "      <td>NaN</td>\n",
       "      <td>NaN</td>\n",
       "    </tr>\n",
       "    <tr>\n",
       "      <th>4420</th>\n",
       "      <td>single</td>\n",
       "      <td>1</td>\n",
       "      <td>2</td>\n",
       "      <td>Journalism and Communication</td>\n",
       "      <td>1</td>\n",
       "      <td>1</td>\n",
       "      <td>Russian</td>\n",
       "      <td>1</td>\n",
       "      <td>1</td>\n",
       "      <td>10</td>\n",
       "      <td>...</td>\n",
       "      <td>6</td>\n",
       "      <td>2</td>\n",
       "      <td>11.000000</td>\n",
       "      <td>0</td>\n",
       "      <td>11.1</td>\n",
       "      <td>0.6</td>\n",
       "      <td>2.02</td>\n",
       "      <td>Dropout</td>\n",
       "      <td>NaN</td>\n",
       "      <td>NaN</td>\n",
       "    </tr>\n",
       "    <tr>\n",
       "      <th>4421</th>\n",
       "      <td>single</td>\n",
       "      <td>1</td>\n",
       "      <td>1</td>\n",
       "      <td>Nursing</td>\n",
       "      <td>1</td>\n",
       "      <td>1</td>\n",
       "      <td>Portuguese</td>\n",
       "      <td>22</td>\n",
       "      <td>27</td>\n",
       "      <td>10</td>\n",
       "      <td>...</td>\n",
       "      <td>9</td>\n",
       "      <td>1</td>\n",
       "      <td>13.500000</td>\n",
       "      <td>0</td>\n",
       "      <td>13.9</td>\n",
       "      <td>-0.3</td>\n",
       "      <td>0.79</td>\n",
       "      <td>Dropout</td>\n",
       "      <td>NaN</td>\n",
       "      <td>NaN</td>\n",
       "    </tr>\n",
       "    <tr>\n",
       "      <th>4422</th>\n",
       "      <td>single</td>\n",
       "      <td>1</td>\n",
       "      <td>1</td>\n",
       "      <td>Management</td>\n",
       "      <td>1</td>\n",
       "      <td>1</td>\n",
       "      <td>Portuguese</td>\n",
       "      <td>22</td>\n",
       "      <td>27</td>\n",
       "      <td>8</td>\n",
       "      <td>...</td>\n",
       "      <td>6</td>\n",
       "      <td>5</td>\n",
       "      <td>12.000000</td>\n",
       "      <td>0</td>\n",
       "      <td>9.4</td>\n",
       "      <td>-0.8</td>\n",
       "      <td>-3.12</td>\n",
       "      <td>Graduate</td>\n",
       "      <td>NaN</td>\n",
       "      <td>NaN</td>\n",
       "    </tr>\n",
       "    <tr>\n",
       "      <th>4423</th>\n",
       "      <td>single</td>\n",
       "      <td>5</td>\n",
       "      <td>1</td>\n",
       "      <td>Journalism and Communication</td>\n",
       "      <td>1</td>\n",
       "      <td>1</td>\n",
       "      <td>Cape Verdean</td>\n",
       "      <td>23</td>\n",
       "      <td>27</td>\n",
       "      <td>6</td>\n",
       "      <td>...</td>\n",
       "      <td>6</td>\n",
       "      <td>6</td>\n",
       "      <td>13.000000</td>\n",
       "      <td>0</td>\n",
       "      <td>12.7</td>\n",
       "      <td>3.7</td>\n",
       "      <td>-1.70</td>\n",
       "      <td>Graduate</td>\n",
       "      <td>NaN</td>\n",
       "      <td>NaN</td>\n",
       "    </tr>\n",
       "  </tbody>\n",
       "</table>\n",
       "<p>4424 rows × 37 columns</p>\n",
       "</div>"
      ],
      "text/plain": [
       "     Marital status  Application mode  Application order  \\\n",
       "0            single                 8                  5   \n",
       "1            single                 6                  1   \n",
       "2            single                 1                  5   \n",
       "3            single                 8                  2   \n",
       "4           married                12                  1   \n",
       "...             ...               ...                ...   \n",
       "4419         single                 1                  6   \n",
       "4420         single                 1                  2   \n",
       "4421         single                 1                  1   \n",
       "4422         single                 1                  1   \n",
       "4423         single                 5                  1   \n",
       "\n",
       "                                   Course  evening attendance  \\\n",
       "0         Animation and Multimedia Design                   1   \n",
       "1                                 Tourism                   1   \n",
       "2                    Communication Design                   1   \n",
       "3            Journalism and Communication                   1   \n",
       "4     Social Service (evening attendance)                   0   \n",
       "...                                   ...                 ...   \n",
       "4419         Journalism and Communication                   1   \n",
       "4420         Journalism and Communication                   1   \n",
       "4421                              Nursing                   1   \n",
       "4422                          Management                    1   \n",
       "4423         Journalism and Communication                   1   \n",
       "\n",
       "      Previous qualification   Nationality  Mother's qualification  \\\n",
       "0                          1    Portuguese                      13   \n",
       "1                          1    Portuguese                       1   \n",
       "2                          1    Portuguese                      22   \n",
       "3                          1    Portuguese                      23   \n",
       "4                          1    Portuguese                      22   \n",
       "...                      ...           ...                     ...   \n",
       "4419                       1    Portuguese                       1   \n",
       "4420                       1       Russian                       1   \n",
       "4421                       1    Portuguese                      22   \n",
       "4422                       1    Portuguese                      22   \n",
       "4423                       1  Cape Verdean                      23   \n",
       "\n",
       "      Father's qualification  Mother's occupation  ...  \\\n",
       "0                         10                    6  ...   \n",
       "1                          3                    4  ...   \n",
       "2                         27                   10  ...   \n",
       "3                         27                    6  ...   \n",
       "4                         28                   10  ...   \n",
       "...                      ...                  ...  ...   \n",
       "4419                       1                    6  ...   \n",
       "4420                       1                   10  ...   \n",
       "4421                      27                   10  ...   \n",
       "4422                      27                    8  ...   \n",
       "4423                      27                    6  ...   \n",
       "\n",
       "      Curricular units 2nd sem (evaluations)  \\\n",
       "0                                          0   \n",
       "1                                          6   \n",
       "2                                          0   \n",
       "3                                         10   \n",
       "4                                          6   \n",
       "...                                      ...   \n",
       "4419                                       8   \n",
       "4420                                       6   \n",
       "4421                                       9   \n",
       "4422                                       6   \n",
       "4423                                       6   \n",
       "\n",
       "      Curricular units 2nd sem (approved)  Curricular units 2nd sem (grade)  \\\n",
       "0                                       0                          0.000000   \n",
       "1                                       6                         13.666667   \n",
       "2                                       0                          0.000000   \n",
       "3                                       5                         12.400000   \n",
       "4                                       6                         13.000000   \n",
       "...                                   ...                               ...   \n",
       "4419                                    5                         12.666667   \n",
       "4420                                    2                         11.000000   \n",
       "4421                                    1                         13.500000   \n",
       "4422                                    5                         12.000000   \n",
       "4423                                    6                         13.000000   \n",
       "\n",
       "     Curricular units 2nd sem (without evaluations)  Unemployment rate  \\\n",
       "0                                                 0               10.8   \n",
       "1                                                 0               13.9   \n",
       "2                                                 0               10.8   \n",
       "3                                                 0                9.4   \n",
       "4                                                 0               13.9   \n",
       "...                                             ...                ...   \n",
       "4419                                              0               15.5   \n",
       "4420                                              0               11.1   \n",
       "4421                                              0               13.9   \n",
       "4422                                              0                9.4   \n",
       "4423                                              0               12.7   \n",
       "\n",
       "     Inflation rate   GDP    Output Unnamed: 35  Unnamed: 36  \n",
       "0               1.4  1.74   Dropout         NaN          NaN  \n",
       "1              -0.3  0.79  Graduate         NaN         21.0  \n",
       "2               1.4  1.74   Dropout         NaN          NaN  \n",
       "3              -0.8 -3.12  Graduate         NaN          NaN  \n",
       "4              -0.3  0.79  Graduate         NaN          NaN  \n",
       "...             ...   ...       ...         ...          ...  \n",
       "4419            2.8 -4.06  Graduate         NaN          NaN  \n",
       "4420            0.6  2.02   Dropout         NaN          NaN  \n",
       "4421           -0.3  0.79   Dropout         NaN          NaN  \n",
       "4422           -0.8 -3.12  Graduate         NaN          NaN  \n",
       "4423            3.7 -1.70  Graduate         NaN          NaN  \n",
       "\n",
       "[4424 rows x 37 columns]"
      ]
     },
     "execution_count": 63,
     "metadata": {},
     "output_type": "execute_result"
    }
   ],
   "source": [
    "df"
   ]
  },
  {
   "cell_type": "code",
   "execution_count": null,
   "metadata": {
    "id": "KC-6Is-ZqVLH"
   },
   "outputs": [],
   "source": []
  },
  {
   "cell_type": "code",
   "execution_count": 64,
   "metadata": {
    "id": "NReGTWijKMVL"
   },
   "outputs": [],
   "source": [
    "import matplotlib.pyplot as plt"
   ]
  },
  {
   "cell_type": "code",
   "execution_count": 65,
   "metadata": {
    "colab": {
     "base_uri": "https://localhost:8080/"
    },
    "id": "uiyQ9YhYtWqY",
    "outputId": "d99e6039-e6ba-4c55-c727-2e3ee4acff04"
   },
   "outputs": [
    {
     "name": "stdout",
     "output_type": "stream",
     "text": [
      "D:\\NIIT\\Pre-Placement Project\n"
     ]
    }
   ],
   "source": [
    "%cd \"D:\\NIIT\\Pre-Placement Project\""
   ]
  },
  {
   "cell_type": "code",
   "execution_count": 66,
   "metadata": {
    "id": "0pqOSAKRqMKz"
   },
   "outputs": [],
   "source": [
    "df.to_csv('modify_student_data.csv', index=False)"
   ]
  },
  {
   "cell_type": "code",
   "execution_count": null,
   "metadata": {
    "id": "g3FgNwL7qMQ4"
   },
   "outputs": [],
   "source": []
  },
  {
   "cell_type": "code",
   "execution_count": null,
   "metadata": {
    "id": "N1r-nOTOqMWf"
   },
   "outputs": [],
   "source": []
  },
  {
   "cell_type": "code",
   "execution_count": null,
   "metadata": {
    "id": "eCs8ELDWqMZx"
   },
   "outputs": [],
   "source": []
  },
  {
   "cell_type": "code",
   "execution_count": null,
   "metadata": {
    "id": "3LmD4nqaqMdg"
   },
   "outputs": [],
   "source": []
  },
  {
   "cell_type": "code",
   "execution_count": null,
   "metadata": {
    "id": "KtcKD-lkKMaN"
   },
   "outputs": [],
   "source": []
  },
  {
   "cell_type": "code",
   "execution_count": null,
   "metadata": {
    "id": "aQLGPORxKMds"
   },
   "outputs": [],
   "source": []
  },
  {
   "cell_type": "code",
   "execution_count": null,
   "metadata": {
    "id": "CVckzCbpKMg_"
   },
   "outputs": [],
   "source": []
  }
 ],
 "metadata": {
  "colab": {
   "provenance": []
  },
  "kernelspec": {
   "display_name": "Python 3 (ipykernel)",
   "language": "python",
   "name": "python3"
  },
  "language_info": {
   "codemirror_mode": {
    "name": "ipython",
    "version": 3
   },
   "file_extension": ".py",
   "mimetype": "text/x-python",
   "name": "python",
   "nbconvert_exporter": "python",
   "pygments_lexer": "ipython3",
   "version": "3.11.5"
  }
 },
 "nbformat": 4,
 "nbformat_minor": 1
}
